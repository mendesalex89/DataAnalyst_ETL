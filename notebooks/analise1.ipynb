{
 "cells": [
  {
   "cell_type": "code",
   "execution_count": 1,
   "metadata": {},
   "outputs": [],
   "source": [
    "import pandas as pd"
   ]
  },
  {
   "cell_type": "code",
   "execution_count": 2,
   "metadata": {},
   "outputs": [],
   "source": [
    "fato_vendas = pd.read_csv(r\"C:\\Users\\alexm\\Documents\\Altice_DataAnalyst\\fato_vendas.csv\")\n",
    "dim_clientes = pd.read_csv(r\"C:\\Users\\alexm\\Documents\\Altice_DataAnalyst\\dim_clientes.csv\")\n",
    "dim_cidades = pd.read_csv(r\"C:\\Users\\alexm\\Documents\\Altice_DataAnalyst\\dim_cidades.csv\")\n",
    "dim_produtos = pd.read_csv(r\"C:\\Users\\alexm\\Documents\\Altice_DataAnalyst\\dim_produtos.csv\")    "
   ]
  },
  {
   "cell_type": "code",
   "execution_count": 9,
   "metadata": {},
   "outputs": [
    {
     "name": "stdout",
     "output_type": "stream",
     "text": [
      "<class 'pandas.core.frame.DataFrame'>\n",
      "RangeIndex: 10000 entries, 0 to 9999\n",
      "Data columns (total 5 columns):\n",
      " #   Column      Non-Null Count  Dtype  \n",
      "---  ------      --------------  -----  \n",
      " 0   ClienteID   10000 non-null  int64  \n",
      " 1   Valor_Euro  10000 non-null  float64\n",
      " 2   Data        10000 non-null  object \n",
      " 3   CidadeID    10000 non-null  int64  \n",
      " 4   ProdutoID   10000 non-null  int64  \n",
      "dtypes: float64(1), int64(3), object(1)\n",
      "memory usage: 390.8+ KB\n",
      "<class 'pandas.core.frame.DataFrame'>\n",
      "RangeIndex: 10000 entries, 0 to 9999\n",
      "Data columns (total 2 columns):\n",
      " #   Column     Non-Null Count  Dtype \n",
      "---  ------     --------------  ----- \n",
      " 0   ClienteID  10000 non-null  int64 \n",
      " 1   Nome       10000 non-null  object\n",
      "dtypes: int64(1), object(1)\n",
      "memory usage: 156.4+ KB\n",
      "<class 'pandas.core.frame.DataFrame'>\n",
      "RangeIndex: 10 entries, 0 to 9\n",
      "Data columns (total 2 columns):\n",
      " #   Column    Non-Null Count  Dtype \n",
      "---  ------    --------------  ----- \n",
      " 0   Cidade    10 non-null     object\n",
      " 1   CidadeID  10 non-null     int64 \n",
      "dtypes: int64(1), object(1)\n",
      "memory usage: 292.0+ bytes\n",
      "<class 'pandas.core.frame.DataFrame'>\n",
      "RangeIndex: 8 entries, 0 to 7\n",
      "Data columns (total 2 columns):\n",
      " #   Column     Non-Null Count  Dtype \n",
      "---  ------     --------------  ----- \n",
      " 0   Produto    8 non-null      object\n",
      " 1   ProdutoID  8 non-null      int64 \n",
      "dtypes: int64(1), object(1)\n",
      "memory usage: 260.0+ bytes\n"
     ]
    }
   ],
   "source": [
    "# Apenas os head() de cada dataset\n",
    "\n",
    "fato_vendas.info()\n",
    "dim_clientes.info()\n",
    "dim_cidades.info()\n",
    "dim_produtos.info()"
   ]
  },
  {
   "cell_type": "code",
   "execution_count": 11,
   "metadata": {},
   "outputs": [
    {
     "data": {
      "text/html": [
       "<div>\n",
       "<style scoped>\n",
       "    .dataframe tbody tr th:only-of-type {\n",
       "        vertical-align: middle;\n",
       "    }\n",
       "\n",
       "    .dataframe tbody tr th {\n",
       "        vertical-align: top;\n",
       "    }\n",
       "\n",
       "    .dataframe thead th {\n",
       "        text-align: right;\n",
       "    }\n",
       "</style>\n",
       "<table border=\"1\" class=\"dataframe\">\n",
       "  <thead>\n",
       "    <tr style=\"text-align: right;\">\n",
       "      <th></th>\n",
       "      <th>Cidade</th>\n",
       "      <th>CidadeID</th>\n",
       "    </tr>\n",
       "  </thead>\n",
       "  <tbody>\n",
       "    <tr>\n",
       "      <th>0</th>\n",
       "      <td>Lisboa</td>\n",
       "      <td>1</td>\n",
       "    </tr>\n",
       "    <tr>\n",
       "      <th>1</th>\n",
       "      <td>Porto</td>\n",
       "      <td>2</td>\n",
       "    </tr>\n",
       "    <tr>\n",
       "      <th>2</th>\n",
       "      <td>Braga</td>\n",
       "      <td>3</td>\n",
       "    </tr>\n",
       "    <tr>\n",
       "      <th>3</th>\n",
       "      <td>Coimbra</td>\n",
       "      <td>4</td>\n",
       "    </tr>\n",
       "    <tr>\n",
       "      <th>4</th>\n",
       "      <td>Faro</td>\n",
       "      <td>5</td>\n",
       "    </tr>\n",
       "    <tr>\n",
       "      <th>5</th>\n",
       "      <td>Cascais</td>\n",
       "      <td>6</td>\n",
       "    </tr>\n",
       "    <tr>\n",
       "      <th>6</th>\n",
       "      <td>Vila Nova de Gaia</td>\n",
       "      <td>7</td>\n",
       "    </tr>\n",
       "    <tr>\n",
       "      <th>7</th>\n",
       "      <td>Sintra</td>\n",
       "      <td>8</td>\n",
       "    </tr>\n",
       "    <tr>\n",
       "      <th>8</th>\n",
       "      <td>Funchal</td>\n",
       "      <td>9</td>\n",
       "    </tr>\n",
       "    <tr>\n",
       "      <th>9</th>\n",
       "      <td>Évora</td>\n",
       "      <td>10</td>\n",
       "    </tr>\n",
       "  </tbody>\n",
       "</table>\n",
       "</div>"
      ],
      "text/plain": [
       "              Cidade  CidadeID\n",
       "0             Lisboa         1\n",
       "1              Porto         2\n",
       "2              Braga         3\n",
       "3            Coimbra         4\n",
       "4               Faro         5\n",
       "5            Cascais         6\n",
       "6  Vila Nova de Gaia         7\n",
       "7             Sintra         8\n",
       "8            Funchal         9\n",
       "9              Évora        10"
      ]
     },
     "execution_count": 11,
     "metadata": {},
     "output_type": "execute_result"
    }
   ],
   "source": [
    "dim_cidades.head(25)"
   ]
  },
  {
   "cell_type": "code",
   "execution_count": 12,
   "metadata": {},
   "outputs": [],
   "source": [
    "import pandas as pd\n",
    "\n",
    "# Carregar os arquivos CSV no Pandas\n",
    "dim_produtos = pd.read_csv(\"C:/Users/alexm/Documents/Altice_DataAnalyst/dim_produtos.csv\")\n",
    "dim_cidades = pd.read_csv(\"C:/Users/alexm/Documents/Altice_DataAnalyst/dim_cidades.csv\")\n",
    "\n",
    "# Salvar novamente SEM o índice com novos nomes para identificar\n",
    "dim_produtos.to_csv(\"C:/Users/alexm/Documents/Altice_DataAnalyst/dim_produtos_corrigido.csv\", index=False)\n",
    "dim_cidades.to_csv(\"C:/Users/alexm/Documents/Altice_DataAnalyst/dim_cidades_corrigido.csv\", index=False)\n"
   ]
  }
 ],
 "metadata": {
  "kernelspec": {
   "display_name": ".venv",
   "language": "python",
   "name": "python3"
  },
  "language_info": {
   "codemirror_mode": {
    "name": "ipython",
    "version": 3
   },
   "file_extension": ".py",
   "mimetype": "text/x-python",
   "name": "python",
   "nbconvert_exporter": "python",
   "pygments_lexer": "ipython3",
   "version": "3.13.0"
  }
 },
 "nbformat": 4,
 "nbformat_minor": 2
}
