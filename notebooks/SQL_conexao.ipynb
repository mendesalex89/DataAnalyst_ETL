{
 "cells": [
  {
   "cell_type": "markdown",
   "metadata": {},
   "source": [
    "## SQL\n",
    "\n",
    "# Conexão do Python com SQL Server\n",
    "\n",
    "Este notebook demonstra como conectar Python ao SQL Server utilizando a biblioteca pyodbc. Após estabelecer a conexão, é possível executar comandos SQL e visualizar os resultados de forma tabular com a biblioteca Pandas.\n",
    "\n",
    "**Requisitos:**\n",
    "- Driver ODBC instalado (ex.: ODBC Driver 17 for SQL Server)\n",
    "\n",
    "- Ambiente Python configurado corretamente (ex.: ambiente virtual .venv)\n",
    "\n",
    "- Credenciais e dados corretos para conexão (nome do servidor, banco de dados, etc.)\n",
    "\n"
   ]
  },
  {
   "cell_type": "code",
   "execution_count": 6,
   "metadata": {},
   "outputs": [
    {
     "name": "stdout",
     "output_type": "stream",
     "text": [
      "('Microsoft SQL Server 2022 (RTM) - 16.0.1000.6 (X64) \\n\\tOct  8 2022 05:58:25 \\n\\tCopyright (C) 2022 Microsoft Corporation\\n\\tDeveloper Edition (64-bit) on Windows 10 Pro 10.0 <X64> (Build 22000: ) (Hypervisor)\\n',)\n"
     ]
    }
   ],
   "source": [
    "import pyodbc\n",
    "\n",
    "connection_string = (\n",
    "    \"Driver={ODBC Driver 17 for SQL Server};\"\n",
    "    \"Server=ALEXMENDES;\"         # Nome ou endereço do servidor\n",
    "    \"Database=Altice;\"\n",
    "    \"Trusted_Connection=yes;\"\n",
    "    \"Connection Timeout=30;\"      # Aumenta o tempo limite, se necessário\n",
    ")\n",
    "\n",
    "conn = pyodbc.connect(connection_string)\n",
    "cursor = conn.cursor()\n",
    "\n",
    "cursor.execute(\"SELECT @@version;\")\n",
    "row = cursor.fetchone()\n",
    "while row:\n",
    "    print(row)\n",
    "    row = cursor.fetchone()\n",
    "\n",
    "conn.close()"
   ]
  }
 ],
 "metadata": {
  "kernelspec": {
   "display_name": ".venv",
   "language": "python",
   "name": "python3"
  },
  "language_info": {
   "codemirror_mode": {
    "name": "ipython",
    "version": 3
   },
   "file_extension": ".py",
   "mimetype": "text/x-python",
   "name": "python",
   "nbconvert_exporter": "python",
   "pygments_lexer": "ipython3",
   "version": "3.13.0"
  }
 },
 "nbformat": 4,
 "nbformat_minor": 2
}
